{
 "cells": [
  {
   "cell_type": "markdown",
   "metadata": {},
   "source": [
    "# **Lesson 2: Control Flow, Functions, and IOs**\n",
    "\n",
    "1. Control Flow Structures\n",
    "   - Understand and implement conditional statements (if, elif, else)\n",
    "   - Apply logical operators (and, or, not) in control flow\n",
    "   - Implement different types of loops (for, while)\n",
    "   - Use break and continue statements appropriately\n",
    "\n",
    "2. Functions\n",
    "   - Define and call functions with and without parameters\n",
    "   - Understand function scope and variable visibility\n",
    "   - Implement functions with return values\n",
    "   - Document functions using docstrings\n",
    "\n",
    "3. Input/Output Operations\n",
    "   - Read and write to text files\n",
    "   - Handle different file modes (read, write, append)\n",
    "   - Implement proper file handling with context managers\n"
   ]
  },
  {
   "cell_type": "code",
   "execution_count": null,
   "metadata": {},
   "outputs": [],
   "source": []
  },
  {
   "cell_type": "markdown",
   "metadata": {},
   "source": [
    "## **1. Control Flow Statements**\n",
    "\n",
    "#### If-Else Statements\n",
    "\n",
    "| Operation | MATLAB | Python |\n",
    "|-----------|--------|--------|\n",
    "| Basic If | `if condition` | `if condition:` |\n",
    "| If-Else | `if condition`<br>`else` | `if condition:`<br>`else:` |\n",
    "| If-ElseIf | `if condition1`<br>`elseif condition2` | `if condition1:`<br>`elif condition2:` |\n",
    "| Nested If | `if condition1`<br>`if condition2` | `if condition1:`<br>`if condition2:` |\n",
    "\n"
   ]
  },
  {
   "cell_type": "code",
   "execution_count": null,
   "metadata": {},
   "outputs": [],
   "source": [
    "# If Statement Practice\n",
    "# ===================\n",
    "\n",
    "# Question 1: Basic If\n",
    "# -----------------\n",
    "# Check if a number is positive\n",
    "\n",
    "number = float(input(\"Enter a number: \"))\n",
    "\n",
    "# Your code here\n",
    "\n",
    "# Question 2: If-Else\n",
    "# ----------------\n",
    "# Check if a number is even or odd\n",
    "\n",
    "number = int(input(\"Enter an integer: \"))\n",
    "\n",
    "# Your code here\n",
    "\n",
    "# Question 3: If-Elif-Else\n",
    "# ---------------------\n",
    "# Assign a grade based on score\n",
    "# A: 90-100, B: 80-89, C: 70-79, D: 60-69, F: below 60\n",
    "\n",
    "score = float(input(\"Enter your score: \"))\n",
    "\n",
    "# Your code here"
   ]
  },
  {
   "cell_type": "markdown",
   "metadata": {},
   "source": [
    "### For Loops\n",
    "\n",
    "| Operation | MATLAB | Python |\n",
    "|-----------|--------|--------|\n",
    "| Basic Loop | `for i = 1:10` | `for i in range(10):` |\n",
    "| Step Size | `for i = 1:2:10` | `for i in range(1, 11, 2):` |\n",
    "| Reverse | `for i = 10:-1:1` | `for i in range(10, 0, -1):` |\n",
    "| Array Loop | `for x = array` | `for x in array:` |\n",
    "\n"
   ]
  },
  {
   "cell_type": "code",
   "execution_count": null,
   "metadata": {},
   "outputs": [],
   "source": [
    "# For Loop Practice\n",
    "# ===============\n",
    "\n",
    "# Question 1: Basic Loop\n",
    "# ------------------\n",
    "# Print numbers from 1 to 10\n",
    "\n",
    "# Your code here\n",
    "\n",
    "# Question 2: Step Size\n",
    "# -----------------\n",
    "# Print even numbers from 2 to 20\n"
   ]
  },
  {
   "cell_type": "markdown",
   "metadata": {},
   "source": [
    "### Different Ways to Use For Loops\n",
    "\n",
    "| Usage | Example |\n",
    "|-------|---------|\n",
    "| List Iteration | `for item in my_list:` |\n",
    "| Enumerate | `for index, value in enumerate(my_list):` |\n",
    "| Zip | `for a, b in zip(list1, list2):` |\n"
   ]
  },
  {
   "cell_type": "code",
   "execution_count": null,
   "metadata": {},
   "outputs": [],
   "source": [
    "# For Loop Practice\n",
    "# ===============\n",
    "\n",
    "# Question 1: List Iteration\n",
    "# ----------------------\n",
    "# Calculate the sum of all numbers in a list\n",
    "\n",
    "numbers = [1, 2, 3, 4, 5, 6, 7, 8, 9, 10]\n",
    "total = 0\n",
    "\n",
    "# Your code here\n",
    "\n",
    "print(f\"Sum: {total}\")\n"
   ]
  },
  {
   "cell_type": "code",
   "execution_count": null,
   "metadata": {},
   "outputs": [],
   "source": [
    "# Question 2: Enumerate\n",
    "# -----------------\n",
    "# Find the index of the first even number\n",
    "\n",
    "numbers = [1, 3, 5, 8, 9, 10, 12]\n",
    "\n",
    "# Your code here\n"
   ]
  },
  {
   "cell_type": "code",
   "execution_count": null,
   "metadata": {},
   "outputs": [],
   "source": [
    "# Question 3: Zip\n",
    "# ------------\n",
    "# Create a dictionary from two lists\n",
    "\n",
    "names = [\"Alice\", \"Bob\", \"Charlie\"]\n",
    "ages = [25, 30, 35]\n",
    "people = {}\n",
    "\n",
    "# Your code here\n",
    "\n",
    "print(people)"
   ]
  },
  {
   "cell_type": "markdown",
   "metadata": {},
   "source": [
    "\n",
    "### While Loops\n",
    "\n",
    "| Operation | MATLAB | Python |\n",
    "|-----------|--------|--------|\n",
    "| Basic While | `while condition` | `while condition:` |\n",
    "| Break | `break` | `break` |\n",
    "| Continue | `continue` | `continue` |\n"
   ]
  },
  {
   "cell_type": "code",
   "execution_count": 2,
   "metadata": {},
   "outputs": [],
   "source": [
    "# While Loop Practice\n",
    "# ================\n",
    "\n",
    "# Question 1: Basic While\n",
    "# ------------------\n",
    "# Keep asking for a number until user enters 0\n",
    "\n",
    "# Your code here\n",
    "# number = float(input(\"Enter a number: \"))"
   ]
  },
  {
   "cell_type": "code",
   "execution_count": null,
   "metadata": {},
   "outputs": [],
   "source": [
    "\n",
    "# Question 2: Break and Continue\n",
    "# -------------------------\n",
    "# Print numbers from 1 to 10, but:\n",
    "# - Skip even numbers\n",
    "# - Stop if number is greater than 8\n",
    "\n",
    "number = 1\n",
    "while number <= 10:\n",
    "    # Your code here\n",
    "\n",
    "    number += 1\n",
    "\n"
   ]
  },
  {
   "cell_type": "markdown",
   "metadata": {},
   "source": [
    "## **2. Functions**"
   ]
  },
  {
   "cell_type": "markdown",
   "metadata": {},
   "source": [
    "### **Functions in MATLAB vs Python**\n",
    "\n",
    "#### Basic Syntax Comparison\n",
    "\n",
    "| Feature | MATLAB | Python |\n",
    "|---------|--------|--------|\n",
    "| Function Definition | `function [output] = name(input)`<br>`    statements`<br>`end` | `def name(input):`<br>`    statements`<br>`    return output` |\n",
    "| Multiple Outputs | `function [out1, out2] = name(input)` | `def name(input):`<br>`    return out1, out2` |\n",
    "| Default Arguments | `function output = name(input=default)` | `def name(input=default):` |\n",
    "\n"
   ]
  },
  {
   "cell_type": "code",
   "execution_count": null,
   "metadata": {},
   "outputs": [],
   "source": [
    "# Function Practice\n",
    "# ===============\n",
    "\n",
    "# Question 1: Basic Function\n",
    "# ---------------------\n",
    "# Write a function to calculate the area of a circle\n",
    "\n",
    "def calculate_area(radius):\n",
    "    # Your code here\n",
    "    # Remember to use proper indentation\n",
    "    # All code inside the function should be indented\n",
    "\n",
    "# Test the function\n",
    "print(calculate_area(5))  # Should print ~78.54"
   ]
  },
  {
   "cell_type": "code",
   "execution_count": null,
   "metadata": {},
   "outputs": [],
   "source": [
    "# Question 2: Multiple Returns\n",
    "# ------------------------\n",
    "# Write a function that returns both sum and product of two numbers\n",
    "\n",
    "def calculate_sum_and_product(a, b):\n",
    "    # Your code here\n",
    "    # Remember to use proper indentation\n",
    "    # All code inside the function should be indented\n",
    "\n",
    "# Test the function\n",
    "sum_result, product_result = calculate_sum_and_product(3, 4)\n",
    "print(f\"Sum: {sum_result}, Product: {product_result}\")"
   ]
  },
  {
   "cell_type": "code",
   "execution_count": null,
   "metadata": {},
   "outputs": [],
   "source": [
    "# Question 3: Default Arguments\n",
    "# ------------------------\n",
    "# Write a function to greet a person with optional greeting\n",
    "\n",
    "def greet(name, greeting=\"Hello\"):\n",
    "    # Your code here\n",
    "    # Remember to use proper indentation\n",
    "    # All code inside the function should be indented\n",
    "\n",
    "# Test the function\n",
    "print(greet(\"Alice\"))  # Should print \"Hello, Alice!\"\n",
    "print(greet(\"Bob\", \"Hi\"))  # Should print \"Hi, Bob!\""
   ]
  },
  {
   "cell_type": "markdown",
   "metadata": {},
   "source": [
    "### **Variable Scope in Python**\n",
    "\n",
    "#### Types of Scope\n",
    "1. **Local Scope**\n",
    "   - Variables defined inside a function\n",
    "   - Only accessible within that function\n",
    "\n",
    "2. **Global Scope**\n",
    "   - Variables defined outside any function\n",
    "   - Accessible throughout the program\n"
   ]
  },
  {
   "cell_type": "code",
   "execution_count": 3,
   "metadata": {},
   "outputs": [],
   "source": [
    "# Variable Scope Practice\n",
    "# ====================\n",
    "\n",
    "# Question 1: Local vs Global Scope\n",
    "# ----------------------------\n",
    "# Complete the function to demonstrate local and global variables\n",
    "\n",
    "global_var = 10\n",
    "\n",
    "def scope_demo():\n",
    "    local_var = 5\n",
    "    # Your code here\n",
    "    # Try to print both global_var and local_var\n",
    "    # What happens if you try to modify global_var?\n",
    "\n",
    "# Test the function\n",
    "scope_demo()\n",
    "print(f\"Global variable outside function: {global_var}\")\n"
   ]
  },
  {
   "cell_type": "code",
   "execution_count": null,
   "metadata": {},
   "outputs": [],
   "source": [
    "# Question 2: Global Keyword\n",
    "# ----------------------\n",
    "# Complete the function to modify a global variable\n",
    "\n",
    "count = 0\n",
    "\n",
    "def increment_counter():\n",
    "    # Your code here\n",
    "    # Use the global keyword to modify count\n",
    "    # Increment count by 1\n",
    "\n",
    "# Test the function\n",
    "increment_counter()\n",
    "print(f\"Count after increment: {count}\")\n"
   ]
  },
  {
   "cell_type": "markdown",
   "metadata": {},
   "source": [
    "## **3.File I/O in Python**\n",
    "\n",
    "### Basic Syntax\n",
    "```python\n",
    "with open('file.txt', 'r') as file:\n",
    "    # File operations here\n",
    "    # File automatically closed after block\n",
    "```\n",
    "\n",
    "### File Modes\n",
    "| Mode | Description |\n",
    "|------|-------------|\n",
    "| 'r'  | Read mode (default) |\n",
    "| 'w'  | Write mode (overwrites) |\n",
    "| 'a'  | Append mode |\n",
    "| 'r+' | Read and write mode |"
   ]
  },
  {
   "cell_type": "code",
   "execution_count": 4,
   "metadata": {},
   "outputs": [],
   "source": [
    "# File I/O Practice with 'with' statement\n",
    "# ====================================\n",
    "\n",
    "# Question 1: Reading a File\n",
    "# ----------------------\n",
    "# Read and print the contents of a file using 'with' statement\n",
    "\n",
    "# Your code here\n",
    "# Use 'with' to open and read the file\n",
    "# Print each line"
   ]
  },
  {
   "cell_type": "code",
   "execution_count": null,
   "metadata": {},
   "outputs": [],
   "source": [
    "# Question 2: Writing to a File\n",
    "# ------------------------\n",
    "# Write some text to a file using 'with' statement\n",
    "\n",
    "text_to_write = \"Hello, Python!\\nThis is a test file.\\n\"\n",
    "\n",
    "# Your code here\n",
    "# Use 'with' to open and write to the file"
   ]
  }
 ],
 "metadata": {
  "kernelspec": {
   "display_name": "base",
   "language": "python",
   "name": "python3"
  },
  "language_info": {
   "codemirror_mode": {
    "name": "ipython",
    "version": 3
   },
   "file_extension": ".py",
   "mimetype": "text/x-python",
   "name": "python",
   "nbconvert_exporter": "python",
   "pygments_lexer": "ipython3",
   "version": "3.11.5"
  }
 },
 "nbformat": 4,
 "nbformat_minor": 2
}
