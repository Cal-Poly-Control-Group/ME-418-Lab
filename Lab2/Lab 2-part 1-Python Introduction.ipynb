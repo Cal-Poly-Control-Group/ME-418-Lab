{
 "cells": [
  {
   "cell_type": "markdown",
   "id": "3e9e0a97",
   "metadata": {},
   "source": [
    "# Python Introduction (and comparison to MATLAB)"
   ]
  },
  {
   "cell_type": "markdown",
   "id": "91e6f24a",
   "metadata": {},
   "source": [
    "This document will go over the basic features of python, assuming familiarity with programming concepts. Much comparison is made to MATLAB, since students should be familiar with MATLAB from prerequisite classes.\n",
    "\n",
    "This is a Jupyter notebook, so the last expression will appear below blocks of code, as the output. It is adapted from the offical [python tutorial](https://docs.python.org/3.9/tutorial/index.html) which is highly reccomended for further reading and details. Feel free to interact with this notebook: change the cells to see how the output changes, or add your own cells to test your understanding. "
   ]
  },
  {
   "cell_type": "markdown",
   "id": "0fcfae46",
   "metadata": {},
   "source": [
    "## Operators"
   ]
  },
  {
   "cell_type": "markdown",
   "id": "5670b910",
   "metadata": {},
   "source": [
    "These operators are listed in order of precedence (top evaluate first). Parentheses can be used to group expressions. See this [precedence table](https://www.mathcs.emory.edu/~valerie/courses/fall10/155/resources/op_precedence.html) for a complete list of all operators and their precedence."
   ]
  },
  {
   "cell_type": "markdown",
   "id": "c2e84685",
   "metadata": {},
   "source": [
    "### Mathematical"
   ]
  },
  {
   "cell_type": "markdown",
   "id": "89c3d1e6",
   "metadata": {},
   "source": [
    "* `**` exponentiation\n",
    "* `*` multiplication, `/` division\n",
    "* `+` addition, * `-` subtraction"
   ]
  },
  {
   "cell_type": "markdown",
   "id": "cc441bac",
   "metadata": {},
   "source": [
    "### Boolean"
   ]
  },
  {
   "cell_type": "markdown",
   "id": "d37eeb41",
   "metadata": {},
   "source": [
    "* `not`\n",
    "* `and`\n",
    "* `or`"
   ]
  },
  {
   "cell_type": "markdown",
   "id": "8fdb8843",
   "metadata": {},
   "source": [
    "### Comparison (all same precedence level)"
   ]
  },
  {
   "cell_type": "markdown",
   "id": "9ae8f304",
   "metadata": {},
   "source": [
    "* `==` equality\n",
    "* `!=` negative equality\n",
    "* `>` greater than\n",
    "* `<` less than\n",
    "* `>=` greater than or equal to\n",
    "* `<=` less than or equal to"
   ]
  },
  {
   "cell_type": "markdown",
   "id": "cb2b32a6",
   "metadata": {},
   "source": [
    "## Operation on real numbers"
   ]
  },
  {
   "cell_type": "markdown",
   "id": "c7a562e2",
   "metadata": {},
   "source": [
    "Numbers can be added, subtracted, multiplied and divided using the standard symbols, and parentheses can be used, just like in MATLAB, to group operations."
   ]
  },
  {
   "cell_type": "code",
   "execution_count": 55,
   "id": "2862716a",
   "metadata": {},
   "outputs": [
    {
     "data": {
      "text/plain": [
       "3"
      ]
     },
     "execution_count": 55,
     "metadata": {},
     "output_type": "execute_result"
    }
   ],
   "source": [
    "1 + 2"
   ]
  },
  {
   "cell_type": "code",
   "execution_count": 56,
   "id": "ba7b44dd",
   "metadata": {},
   "outputs": [
    {
     "data": {
      "text/plain": [
       "-2.0"
      ]
     },
     "execution_count": 56,
     "metadata": {},
     "output_type": "execute_result"
    }
   ],
   "source": [
    "4 - 6.0"
   ]
  },
  {
   "cell_type": "code",
   "execution_count": 57,
   "id": "46819fc8",
   "metadata": {},
   "outputs": [
    {
     "data": {
      "text/plain": [
       "27"
      ]
     },
     "execution_count": 57,
     "metadata": {},
     "output_type": "execute_result"
    }
   ],
   "source": [
    "3 * 9"
   ]
  },
  {
   "cell_type": "code",
   "execution_count": 58,
   "id": "748982d3",
   "metadata": {},
   "outputs": [
    {
     "data": {
      "text/plain": [
       "4.0"
      ]
     },
     "execution_count": 58,
     "metadata": {},
     "output_type": "execute_result"
    }
   ],
   "source": [
    "8 / 2"
   ]
  },
  {
   "cell_type": "markdown",
   "id": "d8ef4435",
   "metadata": {},
   "source": [
    "The power operator in python is different than in MATLAB: use `**` for exponents."
   ]
  },
  {
   "cell_type": "code",
   "execution_count": 61,
   "id": "7c206476",
   "metadata": {},
   "outputs": [
    {
     "data": {
      "text/plain": [
       "256"
      ]
     },
     "execution_count": 61,
     "metadata": {},
     "output_type": "execute_result"
    }
   ],
   "source": [
    "2 ** 8"
   ]
  },
  {
   "cell_type": "markdown",
   "id": "5afd1bbf",
   "metadata": {},
   "source": [
    "#### A note on Python types"
   ]
  },
  {
   "cell_type": "markdown",
   "id": "c973d5f6",
   "metadata": {},
   "source": [
    "Notice that expressions containing only integers return integer results, but any expression with a mixture of floating-point numbers and integers returns a floating-point number. One exception to this is division, which always returns a floating-point number. This is because python anticipates that a floating-point number could be the result. This is a recurring idea in Python's design: the types of variables are automatically converted when it is appropriate.\n",
    "\n",
    "The operators `//` and `%` can be used for [floor division and remainder](https://docs.python.org/3/tutorial/introduction.html#numbers)."
   ]
  },
  {
   "cell_type": "markdown",
   "id": "154efa98",
   "metadata": {},
   "source": [
    "### Strings"
   ]
  },
  {
   "cell_type": "markdown",
   "id": "54ca76fc",
   "metadata": {},
   "source": [
    "String literals in Python can be specified using single quotes `''` or double quotes `\"\"`. It does not matter to Python which is used, but it is probably good to be consistent. Jupyter Notebook will show strings which are output in single quotes."
   ]
  },
  {
   "cell_type": "code",
   "execution_count": 62,
   "id": "6c360a9f",
   "metadata": {},
   "outputs": [
    {
     "data": {
      "text/plain": [
       "'hello'"
      ]
     },
     "execution_count": 62,
     "metadata": {},
     "output_type": "execute_result"
    }
   ],
   "source": [
    "\"hello\""
   ]
  },
  {
   "cell_type": "code",
   "execution_count": 63,
   "id": "d4642a9f",
   "metadata": {},
   "outputs": [
    {
     "data": {
      "text/plain": [
       "'world'"
      ]
     },
     "execution_count": 63,
     "metadata": {},
     "output_type": "execute_result"
    }
   ],
   "source": [
    "'world'"
   ]
  },
  {
   "cell_type": "markdown",
   "id": "e8706bf0",
   "metadata": {},
   "source": [
    "Strings can be combined using the `+` operator, which will concatenate the strings together. The `*` operator can also be used to multiply a string by a number and get that number of copies as a single string."
   ]
  },
  {
   "cell_type": "code",
   "execution_count": 64,
   "id": "d7a63cfa",
   "metadata": {},
   "outputs": [
    {
     "data": {
      "text/plain": [
       "'ME 418'"
      ]
     },
     "execution_count": 64,
     "metadata": {},
     "output_type": "execute_result"
    }
   ],
   "source": [
    "\"ME \" + \"418\""
   ]
  },
  {
   "cell_type": "markdown",
   "id": "7bee0175",
   "metadata": {},
   "source": [
    "#### Indexing"
   ]
  },
  {
   "cell_type": "markdown",
   "id": "3e49ac1b",
   "metadata": {},
   "source": [
    "Individual characters or portions of strings can be accessed by indexing. In python, the square brackets `[]` are used for indexing, which can be done on strings as well as many other data types which store multiple items such as lists and tuples. This is different from MATLAB, where parentheses `()` are used for indexing. Indexes start at 0, unlike in MATLAB where they start at 1. Lists, which are discussed next, are indexed in the same way, as well as many other data types which store multiple elements, known as sequence types."
   ]
  },
  {
   "cell_type": "code",
   "execution_count": 65,
   "id": "589d2e62",
   "metadata": {},
   "outputs": [
    {
     "data": {
      "text/plain": [
       "'P'"
      ]
     },
     "execution_count": 65,
     "metadata": {},
     "output_type": "execute_result"
    }
   ],
   "source": [
    "s1 = \"Cal Poly\"\n",
    "s1[4]"
   ]
  },
  {
   "cell_type": "code",
   "execution_count": 66,
   "id": "d2dddda7",
   "metadata": {},
   "outputs": [
    {
     "data": {
      "text/plain": [
       "'C'"
      ]
     },
     "execution_count": 66,
     "metadata": {},
     "output_type": "execute_result"
    }
   ],
   "source": [
    "s1[0]"
   ]
  },
  {
   "cell_type": "markdown",
   "id": "bf5f298a",
   "metadata": {},
   "source": [
    "Ranges of strings can be accessed using a syntax with a colon. This is known as slicing. The form is `variable[start:stop:step]`. Note that the value at the stop index is not included. The start or end value can be ommitted, and they will be replaced with the beginning or end of the list, respectively.\n",
    "\n",
    "This is similar to the use of the colon MATLAB, but there are some key differences. MATLAB uses the syntax `start:step:stop` to index arrays, and the stop index __is__ included. Also, the colon can be used for vector creation. In Python this is not an option, but [`range(start, stop, step)`](https://docs.python.org/3/tutorial/controlflow.html#the-range-function) can be used for similar functionality."
   ]
  },
  {
   "cell_type": "code",
   "execution_count": 67,
   "id": "88408858",
   "metadata": {},
   "outputs": [
    {
     "data": {
      "text/plain": [
       "'13579'"
      ]
     },
     "execution_count": 67,
     "metadata": {},
     "output_type": "execute_result"
    }
   ],
   "source": [
    "\"123456789\"[:9:2]"
   ]
  },
  {
   "cell_type": "markdown",
   "id": "f4e6e194",
   "metadata": {},
   "source": [
    "Keep in mind that strings are immutable, so you cannot change a string by assigning to an index."
   ]
  },
  {
   "cell_type": "code",
   "execution_count": 68,
   "id": "5979223f",
   "metadata": {
    "scrolled": true
   },
   "outputs": [
    {
     "ename": "TypeError",
     "evalue": "'str' object does not support item assignment",
     "output_type": "error",
     "traceback": [
      "\u001b[1;31m---------------------------------------------------------------------------\u001b[0m",
      "\u001b[1;31mTypeError\u001b[0m                                 Traceback (most recent call last)",
      "Input \u001b[1;32mIn [68]\u001b[0m, in \u001b[0;36m<cell line: 1>\u001b[1;34m()\u001b[0m\n\u001b[1;32m----> 1\u001b[0m s1[\u001b[38;5;241m1\u001b[39m:\u001b[38;5;241m3\u001b[39m] \u001b[38;5;241m=\u001b[39m \u001b[38;5;124m\"\u001b[39m\u001b[38;5;124mow\u001b[39m\u001b[38;5;124m\"\u001b[39m\n",
      "\u001b[1;31mTypeError\u001b[0m: 'str' object does not support item assignment"
     ]
    }
   ],
   "source": [
    "s1[1:3] = \"ow\""
   ]
  },
  {
   "cell_type": "markdown",
   "id": "ee808980",
   "metadata": {},
   "source": [
    "### Booleans"
   ]
  },
  {
   "cell_type": "markdown",
   "id": "739b8855",
   "metadata": {},
   "source": [
    "Boolean values in python are either `True` or `False`. Note that this is case-sensitive. Booleans can be modified and combined using the boolean operators `and`, `or` and `not`."
   ]
  },
  {
   "cell_type": "code",
   "execution_count": 70,
   "id": "8a358950",
   "metadata": {},
   "outputs": [
    {
     "data": {
      "text/plain": [
       "True"
      ]
     },
     "execution_count": 70,
     "metadata": {},
     "output_type": "execute_result"
    }
   ],
   "source": [
    "1 == 1"
   ]
  },
  {
   "cell_type": "code",
   "execution_count": 71,
   "id": "0b3b6eed",
   "metadata": {},
   "outputs": [
    {
     "data": {
      "text/plain": [
       "False"
      ]
     },
     "execution_count": 71,
     "metadata": {},
     "output_type": "execute_result"
    }
   ],
   "source": [
    "not 1 == 1 or 2 == 3"
   ]
  },
  {
   "cell_type": "markdown",
   "id": "27a6af03",
   "metadata": {},
   "source": [
    "Probably the most common time that booleans will be created is as the result of comparison operations. These include:\n",
    "\n",
    "* `==` equal\n",
    "* `!=` not equal\n",
    "* `>` greater than\n",
    "* `<` less than\n",
    "* `>=` greater than or equal to\n",
    "* `<=` less than or equal to"
   ]
  },
  {
   "cell_type": "code",
   "execution_count": 72,
   "id": "3346c717",
   "metadata": {},
   "outputs": [
    {
     "data": {
      "text/plain": [
       "True"
      ]
     },
     "execution_count": 72,
     "metadata": {},
     "output_type": "execute_result"
    }
   ],
   "source": [
    "4 >= 4"
   ]
  },
  {
   "cell_type": "code",
   "execution_count": 73,
   "id": "71206c3b",
   "metadata": {},
   "outputs": [
    {
     "data": {
      "text/plain": [
       "False"
      ]
     },
     "execution_count": 73,
     "metadata": {},
     "output_type": "execute_result"
    }
   ],
   "source": [
    "3 < 2"
   ]
  },
  {
   "cell_type": "code",
   "execution_count": 74,
   "id": "3f2163e0",
   "metadata": {},
   "outputs": [
    {
     "data": {
      "text/plain": [
       "False"
      ]
     },
     "execution_count": 74,
     "metadata": {},
     "output_type": "execute_result"
    }
   ],
   "source": [
    "'test' != 'test'"
   ]
  },
  {
   "cell_type": "markdown",
   "id": "9e98442d",
   "metadata": {},
   "source": [
    "### Lists\n",
    "Multiple values can be stored in a list in python. These items can be of any type, even other lists. Lists are enclosed with square brackets `[]`. Unlike MATLAB syntax, the comma between elements of the list is mandatory in Python. Lists can be indexed and sliced using square brackets. Multiple-dimensional lists can be created by nesting lists."
   ]
  },
  {
   "cell_type": "code",
   "execution_count": 8,
   "id": "5d7cf4c4",
   "metadata": {},
   "outputs": [],
   "source": [
    "data = [1, 2, 3, 4]"
   ]
  },
  {
   "cell_type": "code",
   "execution_count": 76,
   "id": "273bab34",
   "metadata": {
    "scrolled": true
   },
   "outputs": [
    {
     "ename": "SyntaxError",
     "evalue": "invalid syntax (4261260005.py, line 1)",
     "output_type": "error",
     "traceback": [
      "\u001b[1;36m  Input \u001b[1;32mIn [76]\u001b[1;36m\u001b[0m\n\u001b[1;33m    data2 = [1 2 3 4]\u001b[0m\n\u001b[1;37m               ^\u001b[0m\n\u001b[1;31mSyntaxError\u001b[0m\u001b[1;31m:\u001b[0m invalid syntax\n"
     ]
    }
   ],
   "source": [
    "data2 = [1 2 3 4]"
   ]
  },
  {
   "cell_type": "code",
   "execution_count": 77,
   "id": "598c5211",
   "metadata": {},
   "outputs": [
    {
     "data": {
      "text/plain": [
       "6"
      ]
     },
     "execution_count": 77,
     "metadata": {},
     "output_type": "execute_result"
    }
   ],
   "source": [
    "twoD = [[1, 2, 3], [4, 5, 6], [7, 8, 9]]\n",
    "twoD[1][2]"
   ]
  },
  {
   "cell_type": "markdown",
   "id": "01bd1591",
   "metadata": {},
   "source": [
    "Lengths of lists and strings can be computed using `len()`."
   ]
  },
  {
   "cell_type": "code",
   "execution_count": 78,
   "id": "1a7f6bb3",
   "metadata": {},
   "outputs": [
    {
     "data": {
      "text/plain": [
       "3"
      ]
     },
     "execution_count": 78,
     "metadata": {},
     "output_type": "execute_result"
    }
   ],
   "source": [
    "len(twoD)"
   ]
  },
  {
   "cell_type": "code",
   "execution_count": 79,
   "id": "8d5e83af",
   "metadata": {},
   "outputs": [
    {
     "data": {
      "text/plain": [
       "8"
      ]
     },
     "execution_count": 79,
     "metadata": {},
     "output_type": "execute_result"
    }
   ],
   "source": [
    "len(s1)"
   ]
  },
  {
   "cell_type": "markdown",
   "id": "ffa321ba",
   "metadata": {},
   "source": [
    "You can create an empty list using []."
   ]
  },
  {
   "cell_type": "code",
   "execution_count": 18,
   "id": "c3eb9b73",
   "metadata": {},
   "outputs": [],
   "source": [
    "a=[]"
   ]
  },
  {
   "cell_type": "markdown",
   "id": "696918b8",
   "metadata": {},
   "source": [
    "whose lenth is "
   ]
  },
  {
   "cell_type": "code",
   "execution_count": 15,
   "id": "8400fc35",
   "metadata": {},
   "outputs": [
    {
     "data": {
      "text/plain": [
       "0"
      ]
     },
     "execution_count": 15,
     "metadata": {},
     "output_type": "execute_result"
    }
   ],
   "source": [
    "len(a)"
   ]
  },
  {
   "cell_type": "markdown",
   "id": "f8c5a598",
   "metadata": {},
   "source": [
    "An element can be appended to a list using `append()`."
   ]
  },
  {
   "cell_type": "code",
   "execution_count": 19,
   "id": "e12058e1",
   "metadata": {},
   "outputs": [
    {
     "name": "stdout",
     "output_type": "stream",
     "text": [
      "[5]\n"
     ]
    }
   ],
   "source": [
    "a.append(5)\n",
    "print(a)"
   ]
  },
  {
   "cell_type": "markdown",
   "id": "ce1af9f8",
   "metadata": {},
   "source": [
    "## Program Structure"
   ]
  },
  {
   "cell_type": "markdown",
   "id": "85be9ed7",
   "metadata": {},
   "source": [
    "Python uses indentation and colons to form blocks of code. This is different from MATLAB which uses the `end` keyword, and other languages which use curly brackets. 4 spaces per indentation level is standard."
   ]
  },
  {
   "cell_type": "markdown",
   "id": "66eeb01f",
   "metadata": {},
   "source": [
    "### Functions"
   ]
  },
  {
   "cell_type": "markdown",
   "id": "22091058",
   "metadata": {},
   "source": [
    "Functions in python are defined using the `def` keyword. This is followed by the name of the function, and then the names of its parameters, enclosed in parentheses and separated by commas. Finally, a colon ends the function definition and the function body follows, indented one level further. "
   ]
  },
  {
   "cell_type": "code",
   "execution_count": 80,
   "id": "e6bd9b7e",
   "metadata": {},
   "outputs": [
    {
     "data": {
      "text/plain": [
       "16"
      ]
     },
     "execution_count": 80,
     "metadata": {},
     "output_type": "execute_result"
    }
   ],
   "source": [
    "def square(x):\n",
    "    return x ** 2"
   ]
  },
  {
   "cell_type": "markdown",
   "id": "0f4952ad",
   "metadata": {},
   "source": [
    "To call the functin, you can use"
   ]
  },
  {
   "cell_type": "code",
   "execution_count": null,
   "id": "89ca2bd5",
   "metadata": {},
   "outputs": [],
   "source": [
    "square(4)"
   ]
  },
  {
   "cell_type": "markdown",
   "id": "ffb017a0",
   "metadata": {},
   "source": [
    "Functions can take multiple arguments. The function returns when it reaches the end of its body, or the first time it reaches a `return` statement. Functions can also have [optional and keyword arguments](https://docs.python.org/3/tutorial/controlflow.html#more-on-defining-functions). In the example below, print defalts to seperating multiple values with a space and ending with a newline, but this can be changed."
   ]
  },
  {
   "cell_type": "code",
   "execution_count": 81,
   "id": "23f6e1c7",
   "metadata": {},
   "outputs": [
    {
     "name": "stdout",
     "output_type": "stream",
     "text": [
      "1 2 3\n",
      "1 x 2 x 3end\n"
     ]
    }
   ],
   "source": [
    "print(1, 2, 3)\n",
    "print(1, 2, 3, sep=' x ', end='end\\n')"
   ]
  },
  {
   "cell_type": "markdown",
   "id": "4f1ff7cf",
   "metadata": {},
   "source": [
    "### Control Flow"
   ]
  },
  {
   "cell_type": "markdown",
   "id": "8ec09b33",
   "metadata": {},
   "source": [
    "#### `if, elif, else`"
   ]
  },
  {
   "cell_type": "markdown",
   "id": "37676a83",
   "metadata": {},
   "source": [
    "These control flow operators in Python are used with the same indentation style. No parentheses are necessary for the condition. The order is as follows: 1 `if` statement, 0 or more `elif` statements, then 0 or 1 `else` statement."
   ]
  },
  {
   "cell_type": "code",
   "execution_count": 82,
   "id": "d312517a",
   "metadata": {},
   "outputs": [
    {
     "name": "stdout",
     "output_type": "stream",
     "text": [
      "Negative\n"
     ]
    }
   ],
   "source": [
    "velocity = -10\n",
    "if velocity > 0:\n",
    "    print(\"Positive\")\n",
    "elif velocity < 0:\n",
    "    print(\"Negative\")\n",
    "else:\n",
    "    print(\"Zero\")"
   ]
  },
  {
   "cell_type": "markdown",
   "id": "d3b31814",
   "metadata": {},
   "source": [
    "#### `while`"
   ]
  },
  {
   "cell_type": "markdown",
   "id": "56584f7b",
   "metadata": {},
   "source": [
    "`while` can be used to execute a block of code as long as a boolean condition is `True`. This is especially useful on microcontrollers, where we want code to run in a loop indefinitely."
   ]
  },
  {
   "cell_type": "markdown",
   "id": "9fef36fc",
   "metadata": {},
   "source": [
    "#### `for`"
   ]
  },
  {
   "cell_type": "markdown",
   "id": "14221730",
   "metadata": {},
   "source": [
    "For loops are similar to MATLAB for loops, where they always run on a sequence. However, indexing inside a for loop is usually not required, as the loop is over the elements of the sequence, which are not required to be numbers."
   ]
  },
  {
   "cell_type": "code",
   "execution_count": 83,
   "id": "6dc66e54",
   "metadata": {},
   "outputs": [
    {
     "name": "stdout",
     "output_type": "stream",
     "text": [
      "apple\n",
      "orange\n",
      "strawberry\n",
      "banana\n"
     ]
    }
   ],
   "source": [
    "fruits = [\"apple\", \"orange\", \"strawberry\", \"banana\"]\n",
    "for fruit in fruits:\n",
    "    print(fruit)"
   ]
  },
  {
   "cell_type": "markdown",
   "id": "0ddb8589",
   "metadata": {},
   "source": [
    "For loops are always used on some type of sequence, such as a list or string. The variable after the keyword `for` is the variable which is updated for every run of the loop. The expression after `in` is the sequence. The loop will run once for each element in the sequence. "
   ]
  },
  {
   "cell_type": "markdown",
   "id": "5949e643",
   "metadata": {},
   "source": [
    "If you need to do a for loop over a range of numbers, you can use the `range()` function. This can be useful when dealing with data in multiple lists of the same length."
   ]
  },
  {
   "cell_type": "code",
   "execution_count": 1,
   "id": "0d582757",
   "metadata": {},
   "outputs": [
    {
     "name": "stdout",
     "output_type": "stream",
     "text": [
      "0\n",
      "1\n",
      "2\n",
      "3\n",
      "4\n",
      "5\n",
      "6\n",
      "7\n",
      "8\n"
     ]
    }
   ],
   "source": [
    "for n in range(0,9):\n",
    "    print(n)"
   ]
  },
  {
   "cell_type": "markdown",
   "id": "caac0eae",
   "metadata": {},
   "source": [
    "The line \"for n in range(0,9):\" is equivalent to \"for n=1:8\" in MATLAB."
   ]
  }
 ],
 "metadata": {
  "kernelspec": {
   "display_name": "Python 3 (ipykernel)",
   "language": "python",
   "name": "python3"
  },
  "language_info": {
   "codemirror_mode": {
    "name": "ipython",
    "version": 3
   },
   "file_extension": ".py",
   "mimetype": "text/x-python",
   "name": "python",
   "nbconvert_exporter": "python",
   "pygments_lexer": "ipython3",
   "version": "3.9.12"
  },
  "vscode": {
   "interpreter": {
    "hash": "ad2bdc8ecc057115af97d19610ffacc2b4e99fae6737bb82f5d7fb13d2f2c186"
   }
  }
 },
 "nbformat": 4,
 "nbformat_minor": 5
}
