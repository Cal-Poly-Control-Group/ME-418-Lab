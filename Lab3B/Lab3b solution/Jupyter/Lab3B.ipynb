{
 "cells": [
  {
   "cell_type": "markdown",
   "id": "882dc05a",
   "metadata": {},
   "source": [
    "This cell will import all of the necessary libraries for this lab. These \n",
    "include the pyserial library which is used to communicate with the\n",
    "microcontroller, NumPy which is used to load data from a CSV file, and\n",
    "pyplot from matplotlib which is a plotting package with almost identical\n",
    "commands to MATLAB. Run this cell first."
   ]
  },
  {
   "cell_type": "code",
   "execution_count": 9,
   "id": "2c2602f4",
   "metadata": {},
   "outputs": [],
   "source": [
    "from serial import Serial\n",
    "import time\n",
    "import numpy as np\n",
    "from matplotlib import pyplot as plt"
   ]
  },
  {
   "cell_type": "markdown",
   "id": "92b658c6",
   "metadata": {},
   "source": [
    "This cell defines a function which will plot the step response. No need to\n",
    "modify this cell."
   ]
  },
  {
   "cell_type": "code",
   "execution_count": 10,
   "id": "439f82cc",
   "metadata": {},
   "outputs": [],
   "source": [
    "def plot_step(kp, ki, sp, filename):\n",
    "    ''' Plot the step response\n",
    "\n",
    "    Gives a subplot for the velocity vs time, and for the controller outputs\n",
    "    vs time. Also places the gains on the plot title.\n",
    "\n",
    "    Args:\n",
    "        kp:     Proportional Gain\n",
    "        ki:     Integral Gain\n",
    "        sp:     Velocity setpoint to step to\n",
    "    '''\n",
    "    # Import the data from the file\n",
    "    data = np.genfromtxt(filename, delimiter=',')\n",
    "    times = data[:,0]\n",
    "    velocities = data[:,1]\n",
    "    percents = data[:,2]\n",
    "    p_percents = data[:,3]\n",
    "    i_percents = data[:,4]\n",
    "\n",
    "    # Make a figure and set the size to 6x6 in\n",
    "    fig = plt.figure()\n",
    "    plt.rcParams['figure.figsize'] = (6, 6)\n",
    "\n",
    "    # Plot the step response of position vs time on the top half\n",
    "    plt.subplot(211)\n",
    "    plt.plot(times, velocities)\n",
    "    plt.hlines(sp, times[1], times[-1], colors='k', linestyles='dashed')\n",
    "    plt.xlabel(\"Time [s]\")\n",
    "    plt.ylabel(\"Velocity [rad/s]\")\n",
    "    plt.title(f'Step Response: K_P = {kp}, K_I = {ki}')\n",
    "\n",
    "    # Plot the proportional and integral components on the bottom half\n",
    "    plt.subplot(212)\n",
    "    plt.plot(times, p_percents, '--')\n",
    "    plt.plot(times, i_percents, '--')\n",
    "    plt.plot(times, percents)\n",
    "    plt.ylim(-110, 110)\n",
    "    plt.xlabel(\"Time [s]\")\n",
    "    plt.ylabel(\"Voltage percent\")\n",
    "    plt.title(\"Controller Output\")\n",
    "    plt.legend(['P Part', 'I Part', 'Total'])\n",
    "    plt.tight_layout()\n",
    "    plt.show()"
   ]
  },
  {
   "cell_type": "markdown",
   "id": "be98d00b",
   "metadata": {},
   "source": [
    "This cell defines a function which will connect to the microcontroller over\n",
    "the serial port. It will send the desired gains, velocity setpoint to step to,\n",
    "and total time to run the test for, as specified in the variables. Then it will\n",
    "collect the data and write it to `filename`. Finally it will plot the step\n",
    "response using the previous function.\n",
    "No need to modify this cell."
   ]
  },
  {
   "cell_type": "code",
   "execution_count": 15,
   "id": "fd083252",
   "metadata": {},
   "outputs": [],
   "source": [
    "def run_step(kp, ki, sp, t_step, filename, out_max=100):\n",
    "    # Uncomment this line and give the name of the serial port which the Nucleo\n",
    "    # is connected to, as a string. This should be something like\n",
    "    # 'COMx' for Windows and\n",
    "    # '/dev/tty.usbmodemXXXX' for Mac.\n",
    "    # Windows: Open Device Manager and look under \"Ports (COM & LPT)\" for a \n",
    "    # \"USB Serial Device\"\n",
    "    # Mac/Linux: Open terminal and run \"ls /dev/tty.*\" to find the port matching the\n",
    "    # format above.\n",
    "    serport = 'COM16'\n",
    "    \n",
    "    # Open the serial port, and give it the name ser.\n",
    "    with Serial(serport, baudrate=115200, timeout=5) as ser:\n",
    "        # Restart the microcontroller\n",
    "        ser.write(b'\\x02\\x04')\n",
    "        # Write the parameters to the microcontroller\n",
    "        ser.write((str(kp) + '\\r\\n').encode())\n",
    "        ser.write((str(ki) + '\\r\\n').encode())\n",
    "        ser.write((str(sp) + '\\r\\n').encode())\n",
    "        ser.write((str(out_max) + '\\r\\n').encode())\n",
    "        ser.write((str(t_step) + '\\r\\n').encode())\n",
    "\n",
    "        # Open the data file for writing, and give it the name datafile\n",
    "        with open(filename, 'w') as datafile:\n",
    "            while True:\n",
    "                # Read the current line and decode from bytes to a string\n",
    "                line = ser.readline().decode()\n",
    "                # Print the line so we can see what the microcontroller is doing\n",
    "                # print(line, end='')\n",
    "                # If the line starts with END, then we know the data is complete\n",
    "                if line[:3] == 'END':\n",
    "                    break\n",
    "                # If the line has a comma, it is a line of CSV data.\n",
    "                elif ',' in line:\n",
    "                    datafile.write(line.strip() + '\\n')\n",
    "\n",
    "    plot_step(kp, ki, sp, filename)"
   ]
  },
  {
   "cell_type": "markdown",
   "id": "800bc4f4",
   "metadata": {},
   "source": [
    "Make several cells here to call `run_step` for each of the required gains\n",
    "from the lab manual. Use a unique filename for the data files. An example is\n",
    "below which runs a step response with $K_P$ = 0.1 [%/(rad/s)], $K_I$ = 0, the\n",
    "velocity to step to of 500 rad/s, total test time of 1000 ms (1 second), and\n",
    "filename to save data to of \"data1.csv\"."
   ]
  },
  {
   "cell_type": "code",
   "execution_count": null,
   "id": "65656e9c",
   "metadata": {},
   "outputs": [],
   "source": [
    "run_step(0.1, 0, 500, 1000, \"data1.csv\")"
   ]
  },
  {
   "cell_type": "markdown",
   "id": "96ed2059",
   "metadata": {},
   "source": [
    "Add more cells below using the Cell menu, or by pressing the 'b' key while in\n",
    "cell mode (press escape to enter cell mode) and highlighting the bottom cell.\n",
    "Then add one call of `run_step` per cell for the different gains specified in\n",
    "the lab manual. Make the test time long enough to see the systems get to\n",
    "steady state."
   ]
  },
  {
   "cell_type": "code",
   "execution_count": null,
   "id": "883cb716",
   "metadata": {},
   "outputs": [],
   "source": []
  }
 ],
 "metadata": {
  "kernelspec": {
   "display_name": "base",
   "language": "python",
   "name": "python3"
  },
  "language_info": {
   "codemirror_mode": {
    "name": "ipython",
    "version": 3
   },
   "file_extension": ".py",
   "mimetype": "text/x-python",
   "name": "python",
   "nbconvert_exporter": "python",
   "pygments_lexer": "ipython3",
   "version": "3.9.12"
  },
  "vscode": {
   "interpreter": {
    "hash": "08210294964727e4010dccc398c44f22b92a2e77e2aceea574ad21eae77cd8e8"
   }
  }
 },
 "nbformat": 4,
 "nbformat_minor": 5
}
