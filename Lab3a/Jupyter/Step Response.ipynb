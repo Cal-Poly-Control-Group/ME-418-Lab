{
 "cells": [
  {
   "cell_type": "markdown",
   "id": "882dc05a",
   "metadata": {},
   "source": [
    "This cell will import all of the necessary libraries for this lab. These \n",
    "include the pyserial library which is used to communicate with the\n",
    "microcontroller, NumPy which is used to load data from a CSV file, and\n",
    "pyplot from matplotlib which is a plotting package with almost identical\n",
    "commands to MATLAB. Run this cell first."
   ]
  },
  {
   "cell_type": "code",
   "execution_count": 13,
   "id": "2c2602f4",
   "metadata": {},
   "outputs": [],
   "source": [
    "from serial import Serial # you may need to install the pyserial module in Anaconda\n",
    "import numpy as np\n",
    "from matplotlib import pyplot as plt"
   ]
  },
  {
   "cell_type": "markdown",
   "id": "be98d00b",
   "metadata": {},
   "source": [
    "This cell will collect the data from the microcontroller over the serial port.\n",
    "See the comments for details on how this works. You will have to change the\n",
    "`serport` variable to match your PC. After the execution of this cell, a \n",
    "`data.csv` file will be created in the same directory as this notebook."
   ]
  },
  {
   "cell_type": "code",
   "execution_count": 14,
   "id": "4ea78377",
   "metadata": {},
   "outputs": [
    {
     "name": "stdout",
     "output_type": "stream",
     "text": [
      "MOTOR INITIALIZED.\n",
      "ENCODER INITIALIZED.\n",
      "Test completed.\n"
     ]
    }
   ],
   "source": [
    "# Name of the serial port, should be something like 'COMx' for Windows and\n",
    "# '/dev/tty.usbmodemXXXX' for Mac/Linux\n",
    "# Windows: Open Device Manager and look under \"Ports (COM & LPT)\" for a \n",
    "# \"USB Serial Device\"\n",
    "# Mac/Linux: Open terminal and run \"ls /dev/tty.*\" to find the port matching\n",
    "# the format above.\n",
    "serial_port = 'COM3'\n",
    "\n",
    "# Filename to store data in\n",
    "filename = 'data.csv'\n",
    "\n",
    "# Open the serial port, and give it the name ser.\n",
    "with Serial(serial_port, baudrate=115200, timeout=5) as ser:\n",
    "    # Write ^B^D to stop program and reset the microcontroller\n",
    "    ser.write(b'\\x02\\x04')\n",
    "\n",
    "    # Open the data file for writing, and give it the name datafile\n",
    "    with open(filename, 'w') as datafile:\n",
    "        while True:\n",
    "            # Read the current line and decode from bytes to a string\n",
    "            line = ser.readline().decode()\n",
    "            # Print the line so we can see what the microcontroller is doing\n",
    "            # print(line, end='')\n",
    "            # If the line starts with END, then we know the data is complete\n",
    "            if line[:3] == 'END':\n",
    "                print(\"Test completed.\")\n",
    "                break # break the loop when receiving \"Test completed.\"\n",
    "            if line[:18] == 'MOTOR INITIALIZED.':\n",
    "                print(line, end='') # print the line if it starts with \"MOTOR INITIALIZED.\"\n",
    "            if line[:20] == 'ENCODER INITIALIZED.':\n",
    "                print(line, end='') # print the line if it starts with \"ENCODER INITIALIZED.\"\n",
    "            # If the line has a comma, it is a line of CSV data.\n",
    "            if ',' in line:\n",
    "                datafile.write(line.strip() + '\\n')"
   ]
  },
  {
   "attachments": {},
   "cell_type": "markdown",
   "id": "8e8ac8d6",
   "metadata": {},
   "source": [
    "This cell will load the csv data file just saved into a NumPy array, which is\n",
    "very similar to an array from MATLAB. Then it will split off the collumns of\n",
    "data into separate arrays (time and velocity)."
   ]
  },
  {
   "cell_type": "code",
   "execution_count": 16,
   "id": "ca86c15e",
   "metadata": {},
   "outputs": [],
   "source": [
    "data = np.genfromtxt('data.csv', delimiter=',') # load the data from the csv file   \n",
    "times = data[:,0] # the first column is the time\n",
    "velocities = data[:,1] # the second column is the velocity"
   ]
  },
  {
   "attachments": {},
   "cell_type": "markdown",
   "id": "be72ff9c",
   "metadata": {},
   "source": [
    "Write your code here to plot the data. Label the axes, with units, and give\n",
    "the plot a title. Plotting functions are almost the same as matlab, but must be\n",
    "prefixed with `plt.` to call them from `matplotlib.pyplot`."
   ]
  },
  {
   "cell_type": "code",
   "execution_count": null,
   "id": "bdb3e47c",
   "metadata": {},
   "outputs": [],
   "source": []
  }
 ],
 "metadata": {
  "kernelspec": {
   "display_name": "Python 3 (ipykernel)",
   "language": "python",
   "name": "python3"
  },
  "language_info": {
   "codemirror_mode": {
    "name": "ipython",
    "version": 3
   },
   "file_extension": ".py",
   "mimetype": "text/x-python",
   "name": "python",
   "nbconvert_exporter": "python",
   "pygments_lexer": "ipython3",
   "version": "3.9.12"
  },
  "vscode": {
   "interpreter": {
    "hash": "08210294964727e4010dccc398c44f22b92a2e77e2aceea574ad21eae77cd8e8"
   }
  }
 },
 "nbformat": 4,
 "nbformat_minor": 5
}
