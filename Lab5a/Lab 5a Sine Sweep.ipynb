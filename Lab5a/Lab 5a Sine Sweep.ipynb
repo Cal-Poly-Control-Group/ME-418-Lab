{
 "cells": [
  {
   "cell_type": "markdown",
   "id": "89b70c3f",
   "metadata": {},
   "source": [
    "This cell will import all of the needed libraries for this lab. These include pyserial for serial communication, NumPy for Fast Fourier Transform and array processing, and matplotlib.pyplot for plotting."
   ]
  },
  {
   "cell_type": "code",
   "execution_count": 595,
   "id": "dcafde73",
   "metadata": {},
   "outputs": [],
   "source": [
    "from serial import Serial\n",
    "import numpy as np\n",
    "from matplotlib import pyplot as plt"
   ]
  },
  {
   "cell_type": "markdown",
   "id": "b55e0b9b",
   "metadata": {},
   "source": [
    "These parameters will be sent to the microcontroller to generate the sine\n",
    "sweep. Uncomment the lines for your pendulum."
   ]
  },
  {
   "cell_type": "code",
   "execution_count": null,
   "id": "6e615b5b",
   "metadata": {},
   "outputs": [],
   "source": [
    "# Short Pendulums\n",
    "# f_start = 2.5\n",
    "# f_end = 8\n",
    "# Long Pendulums\n",
    "# f_start = 2\n",
    "# f_end = 6\n",
    "interval = 30\n",
    "points_per_second = 100\n",
    "points = interval * points_per_second # USE THIS NUMBER IN THONNY"
   ]
  },
  {
   "cell_type": "markdown",
   "id": "b2131b6f",
   "metadata": {},
   "source": [
    "This cell will reset the microcontroller, send the sine sweep parameters,\n",
    "and then record the data sent back to a file. Set the appropriate COM port."
   ]
  },
  {
   "cell_type": "code",
   "execution_count": null,
   "id": "4ad377de",
   "metadata": {},
   "outputs": [],
   "source": [
    "# Uncomment this line and give the name of the serial port which the Nucleo\n",
    "# is connected to, as a string. This should be something like\n",
    "# 'COMx' for Windows and\n",
    "# '/dev/tty.usbmodemXXXX' for Mac/Linux\n",
    "# Windows: Open Device Manager and look under \"Ports (COM & LPT)\" for a \n",
    "# \"USB Serial Device\"\n",
    "# Mac/Linux: Open terminal and run \"ls /dev/tty.*\" to find the port matching the\n",
    "# format above.\n",
    "serport = 'COM'\n",
    "\n",
    "# Filename to store data in\n",
    "filename = 'data.csv'\n",
    "\n",
    "# Open the serial port, and give it the name ser.\n",
    "with Serial(serport, baudrate=115200, timeout=5) as ser:\n",
    "    # Write ^B^D to stop program and reset the microcontroller\n",
    "    ser.write(b'\\x02\\x04')\n",
    "    # Write all parameters followed by enter\n",
    "    ser.write((str(f_start) + '\\r\\n').encode())\n",
    "    ser.write((str(f_end) + '\\r\\n').encode())\n",
    "    ser.write((str(interval) + '\\r\\n').encode())\n",
    "    ser.write((str(points) + '\\r\\n').encode())\n",
    "    # Open the data file for writing, and give it the name datafile\n",
    "    with open(filename, 'w') as datafile:\n",
    "        while True:\n",
    "            # Read the current line and decode from bytes to a string\n",
    "            line = ser.readline().decode()\n",
    "            # Print the line so we can see what the microcontroller is doing\n",
    "            # print(line, end='')\n",
    "            # If the line starts with END, then we know the data is complete\n",
    "            if line[:3] == 'END':\n",
    "                break\n",
    "            # If the line has a comma, it is a line of CSV data.\n",
    "            elif ',' in line:\n",
    "                datafile.write(line.strip() + '\\n')"
   ]
  },
  {
   "cell_type": "markdown",
   "id": "52010a8b",
   "metadata": {},
   "source": [
    "Read the data from the CSV file, and give names to each of the different\n",
    "collumns. Complete this section by adding two more lines to store the second\n",
    "collumn as the sweep input, and third as the position output. "
   ]
  },
  {
   "cell_type": "code",
   "execution_count": 598,
   "id": "b3776c0c",
   "metadata": {},
   "outputs": [],
   "source": [
    "data = np.genfromtxt('data.csv', delimiter=',')\n",
    "\n",
    "times = data[:,0]\n",
    "# WRITE YOUR CODE HERE to store the sweep input and position output.\n",
    "# sweep =   \n",
    "# positions = "
   ]
  },
  {
   "cell_type": "markdown",
   "id": "b6860487",
   "metadata": {},
   "source": [
    "Plot the sweep input. It may be hard to see the individual waves."
   ]
  },
  {
   "cell_type": "code",
   "execution_count": null,
   "id": "02d23e34",
   "metadata": {},
   "outputs": [],
   "source": [
    "plt.plot(times, sweep)"
   ]
  },
  {
   "cell_type": "markdown",
   "id": "b6860487",
   "metadata": {},
   "source": [
    "Plot the position output. "
   ]
  },
  {
   "cell_type": "code",
   "execution_count": null,
   "id": "2610e6e3",
   "metadata": {},
   "outputs": [],
   "source": [
    "plt.plot(times, positions)"
   ]
  },
  {
   "cell_type": "code",
   "execution_count": 601,
   "id": "96ded513",
   "metadata": {},
   "outputs": [],
   "source": [
    "#Yo don't need to modify this block.\n",
    "def fft_for_bode(times, input_data, output_data):\n",
    "    ''' Runs a Fast Fourier Transform on input and output and returns\n",
    "        the results in a form that makes it easy to draw a Bode plot.\n",
    "        \n",
    "        Args:\n",
    "            input_data:   Series of points for the excitation signal applied\n",
    "                          to the input of the system\n",
    "            output_data:  Series of points for the system output signal.\n",
    "        Both the input and output should be at the same constant sample rate.\n",
    "            \n",
    "        Returns:\n",
    "            A tuple (frequencies, magnitude_db, phase) where\n",
    "                frequencies is the x-axis of bode plot\n",
    "                magnitude_db is the magnitude of output/input, in (dB)\n",
    "                phase is the phase difference between output and input, (deg)\n",
    "    '''\n",
    "    # Get the sample period by subracting the two first times\n",
    "    dt = (times[1] - times[0])\n",
    "    # Get the frequencies that the FFT will use\n",
    "    frequencies = np.fft.rfftfreq(len(times), d=dt)\n",
    "\n",
    "    # Calculate the FFT for both the sweep input and position output\n",
    "    # Returns an array of complex numbers (phasors)\n",
    "    input_fft = np.fft.rfft(input_data)\n",
    "    output_fft = np.fft.rfft(output_data)\n",
    "\n",
    "    # Divide the output by the input (elementwise)\n",
    "    # to get the response, as a complex array\n",
    "    response = output_fft / input_fft\n",
    "    # Convert the complex numbers into magnitude and phase representation\n",
    "    magnitude = np.abs(response)\n",
    "    phase = np.angle(response, deg=True)\n",
    "    # Convert the magnitude to decibels\n",
    "    magnitude_db = 20 * np.log10(magnitude)\n",
    "    # Return 3-tuple of results\n",
    "    return frequencies, magnitude_db, phase"
   ]
  },
  {
   "cell_type": "markdown",
   "id": "e0fc0e9a",
   "metadata": {},
   "source": [
    "Calculate the bode plot data."
   ]
  },
  {
   "cell_type": "code",
   "execution_count": 602,
   "id": "29bff854",
   "metadata": {},
   "outputs": [],
   "source": [
    "frequencies, magnitude_db, phase = fft_for_bode(times, sweep, positions)"
   ]
  },
  {
   "cell_type": "markdown",
   "id": "10a2b5db",
   "metadata": {},
   "source": [
    "Write your code here to make a bode plot from the data, using the instructions\n",
    "from the lab manual. Remember that a bode plot is magnitude and phase vs \n",
    "frequency. "
   ]
  },
  {
   "cell_type": "code",
   "execution_count": null,
   "id": "7f4b6a9c",
   "metadata": {},
   "outputs": [],
   "source": [
    "# WRITE YOUR CODE here to plot experimental bode plots."
   ]
  },
  {
   "cell_type": "markdown",
   "id": "7414b304",
   "metadata": {},
   "source": [
    "This cell will calculate the expected response based on the model\n",
    "$$G(s)=\\frac{K_{ss}\\omega_n^2}{s^2 +2\\zeta\\omega_n s + \\omega_n^2}$$\n",
    "with $s = j\\omega$. Complete the code below to form the transfer function $G(s)$."
   ]
  },
  {
   "cell_type": "code",
   "execution_count": 609,
   "id": "72a043bb",
   "metadata": {},
   "outputs": [],
   "source": [
    "# WRITE YOUR CODE HERE to declare the parameters of the tranfer function.\n",
    "\n",
    "\n",
    "# UNCOMMENT the two lines BELOW when you get to the section 4A.2.4\n",
    "#model_freq = np.logspace(-1, 1, 1000) \n",
    "#s = 1.0j * 2 * np.pi * model_freq   \n",
    "\n",
    "# WRITE YOUR CODE HERE to form the transfer function G\n",
    "\n",
    "\n",
    "# UNCOMMENT the two lines BELOW when you get to the section 4A.2.4\n",
    "#model_mag = 20 * np.log10(np.abs(G)) # G is the tranfer function\n",
    "#model_phase = np.angle(G, deg=True)"
   ]
  },
  {
   "cell_type": "markdown",
   "id": "6762c0cd",
   "metadata": {},
   "source": [
    "Add the model curve to the plot, and edit the parameters to get a good fit to the data."
   ]
  },
  {
   "cell_type": "code",
   "execution_count": null,
   "id": "f576ce94",
   "metadata": {
    "scrolled": false
   },
   "outputs": [],
   "source": [
    "\n",
    "\n",
    "#WRITE YOUR CODE ABOVE\n",
    "plt.show()"
   ]
  }
 ],
 "metadata": {
  "kernelspec": {
   "display_name": "base",
   "language": "python",
   "name": "python3"
  },
  "language_info": {
   "codemirror_mode": {
    "name": "ipython",
    "version": 3
   },
   "file_extension": ".py",
   "mimetype": "text/x-python",
   "name": "python",
   "nbconvert_exporter": "python",
   "pygments_lexer": "ipython3",
   "version": "3.9.12 (main, Apr  4 2022, 05:22:27) [MSC v.1916 64 bit (AMD64)]"
  },
  "vscode": {
   "interpreter": {
    "hash": "08210294964727e4010dccc398c44f22b92a2e77e2aceea574ad21eae77cd8e8"
   }
  }
 },
 "nbformat": 4,
 "nbformat_minor": 5
}
